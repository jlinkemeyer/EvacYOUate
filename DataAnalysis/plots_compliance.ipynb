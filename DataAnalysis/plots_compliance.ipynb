{
 "cells": [
  {
   "cell_type": "markdown",
   "id": "87ba555c",
   "metadata": {},
   "source": [
    "# Analysis notebook for the compliance score results"
   ]
  },
  {
   "cell_type": "code",
   "execution_count": 1,
   "id": "ba1a3c1b",
   "metadata": {},
   "outputs": [],
   "source": [
    "import numpy as np\n",
    "import pandas as pd\n",
    "import matplotlib\n",
    "import matplotlib.pyplot as plt\n",
    "import seaborn as sns"
   ]
  },
  {
   "cell_type": "markdown",
   "id": "3ff8391b",
   "metadata": {},
   "source": [
    "## General seaborn plot settings"
   ]
  },
  {
   "cell_type": "code",
   "execution_count": 2,
   "id": "a15bfd9e",
   "metadata": {},
   "outputs": [],
   "source": [
    "palette = 'colorblind'\n",
    "sns.set_palette(palette)\n",
    "\n",
    "sns.set_style('darkgrid') # set to seaborn theme\n",
    "\n",
    "matplotlib.rcParams.update({'font.size': 30, 'font.family': 'serif'})"
   ]
  },
  {
   "cell_type": "markdown",
   "id": "4d19eafb",
   "metadata": {},
   "source": [
    "## Create the dataframe from the csv file"
   ]
  },
  {
   "cell_type": "code",
   "execution_count": 3,
   "id": "932b2ab4",
   "metadata": {},
   "outputs": [
    {
     "data": {
      "text/html": [
       "<div>\n",
       "<style scoped>\n",
       "    .dataframe tbody tr th:only-of-type {\n",
       "        vertical-align: middle;\n",
       "    }\n",
       "\n",
       "    .dataframe tbody tr th {\n",
       "        vertical-align: top;\n",
       "    }\n",
       "\n",
       "    .dataframe thead th {\n",
       "        text-align: right;\n",
       "    }\n",
       "</style>\n",
       "<table border=\"1\" class=\"dataframe\">\n",
       "  <thead>\n",
       "    <tr style=\"text-align: right;\">\n",
       "      <th></th>\n",
       "      <th>Participant Nr</th>\n",
       "      <th>Condition_gender</th>\n",
       "      <th>Condition_speech</th>\n",
       "      <th>Condition</th>\n",
       "      <th>Step over</th>\n",
       "      <th>Unblocked door</th>\n",
       "      <th>Detour</th>\n",
       "      <th>Duck</th>\n",
       "      <th>Crawl</th>\n",
       "      <th>Get up</th>\n",
       "      <th>Aftershock</th>\n",
       "    </tr>\n",
       "  </thead>\n",
       "  <tbody>\n",
       "    <tr>\n",
       "      <th>0</th>\n",
       "      <td>1</td>\n",
       "      <td>male</td>\n",
       "      <td>authoritative</td>\n",
       "      <td>0</td>\n",
       "      <td>0</td>\n",
       "      <td>1</td>\n",
       "      <td>1</td>\n",
       "      <td>1.0</td>\n",
       "      <td>1.0</td>\n",
       "      <td>1.0</td>\n",
       "      <td>0</td>\n",
       "    </tr>\n",
       "    <tr>\n",
       "      <th>1</th>\n",
       "      <td>2</td>\n",
       "      <td>female</td>\n",
       "      <td>authoritative</td>\n",
       "      <td>2</td>\n",
       "      <td>1</td>\n",
       "      <td>1</td>\n",
       "      <td>0</td>\n",
       "      <td>NaN</td>\n",
       "      <td>NaN</td>\n",
       "      <td>NaN</td>\n",
       "      <td>0</td>\n",
       "    </tr>\n",
       "    <tr>\n",
       "      <th>2</th>\n",
       "      <td>3</td>\n",
       "      <td>male</td>\n",
       "      <td>neutral</td>\n",
       "      <td>1</td>\n",
       "      <td>1</td>\n",
       "      <td>1</td>\n",
       "      <td>1</td>\n",
       "      <td>1.0</td>\n",
       "      <td>1.0</td>\n",
       "      <td>1.0</td>\n",
       "      <td>0</td>\n",
       "    </tr>\n",
       "    <tr>\n",
       "      <th>3</th>\n",
       "      <td>4</td>\n",
       "      <td>female</td>\n",
       "      <td>neutral</td>\n",
       "      <td>3</td>\n",
       "      <td>0</td>\n",
       "      <td>1</td>\n",
       "      <td>1</td>\n",
       "      <td>0.0</td>\n",
       "      <td>1.0</td>\n",
       "      <td>1.0</td>\n",
       "      <td>0</td>\n",
       "    </tr>\n",
       "    <tr>\n",
       "      <th>4</th>\n",
       "      <td>5</td>\n",
       "      <td>male</td>\n",
       "      <td>authoritative</td>\n",
       "      <td>0</td>\n",
       "      <td>1</td>\n",
       "      <td>1</td>\n",
       "      <td>1</td>\n",
       "      <td>1.0</td>\n",
       "      <td>1.0</td>\n",
       "      <td>NaN</td>\n",
       "      <td>0</td>\n",
       "    </tr>\n",
       "    <tr>\n",
       "      <th>5</th>\n",
       "      <td>6</td>\n",
       "      <td>female</td>\n",
       "      <td>authoritative</td>\n",
       "      <td>2</td>\n",
       "      <td>1</td>\n",
       "      <td>1</td>\n",
       "      <td>1</td>\n",
       "      <td>1.0</td>\n",
       "      <td>1.0</td>\n",
       "      <td>1.0</td>\n",
       "      <td>0</td>\n",
       "    </tr>\n",
       "    <tr>\n",
       "      <th>6</th>\n",
       "      <td>7</td>\n",
       "      <td>female</td>\n",
       "      <td>neutral</td>\n",
       "      <td>3</td>\n",
       "      <td>0</td>\n",
       "      <td>1</td>\n",
       "      <td>0</td>\n",
       "      <td>NaN</td>\n",
       "      <td>NaN</td>\n",
       "      <td>NaN</td>\n",
       "      <td>0</td>\n",
       "    </tr>\n",
       "    <tr>\n",
       "      <th>7</th>\n",
       "      <td>8</td>\n",
       "      <td>male</td>\n",
       "      <td>neutral</td>\n",
       "      <td>1</td>\n",
       "      <td>1</td>\n",
       "      <td>1</td>\n",
       "      <td>1</td>\n",
       "      <td>NaN</td>\n",
       "      <td>1.0</td>\n",
       "      <td>1.0</td>\n",
       "      <td>0</td>\n",
       "    </tr>\n",
       "  </tbody>\n",
       "</table>\n",
       "</div>"
      ],
      "text/plain": [
       "   Participant Nr Condition_gender Condition_speech  Condition  Step over  \\\n",
       "0               1             male    authoritative          0          0   \n",
       "1               2           female    authoritative          2          1   \n",
       "2               3             male          neutral          1          1   \n",
       "3               4           female          neutral          3          0   \n",
       "4               5             male    authoritative          0          1   \n",
       "5               6           female    authoritative          2          1   \n",
       "6               7           female          neutral          3          0   \n",
       "7               8             male          neutral          1          1   \n",
       "\n",
       "   Unblocked door  Detour  Duck  Crawl  Get up  Aftershock  \n",
       "0               1       1   1.0    1.0     1.0           0  \n",
       "1               1       0   NaN    NaN     NaN           0  \n",
       "2               1       1   1.0    1.0     1.0           0  \n",
       "3               1       1   0.0    1.0     1.0           0  \n",
       "4               1       1   1.0    1.0     NaN           0  \n",
       "5               1       1   1.0    1.0     1.0           0  \n",
       "6               1       0   NaN    NaN     NaN           0  \n",
       "7               1       1   NaN    1.0     1.0           0  "
      ]
     },
     "execution_count": 3,
     "metadata": {},
     "output_type": "execute_result"
    }
   ],
   "source": [
    "# Load the data\n",
    "df = pd.read_csv('datasets/Compliance_results.csv')\n",
    "df"
   ]
  },
  {
   "cell_type": "markdown",
   "id": "d6784d5d",
   "metadata": {},
   "source": [
    "## Define the relevant columns with the instructions the participant was able to comply to\n",
    "\n",
    "Here, the dataframe is restructured to access the compliance value to create the relevant plots for our paper."
   ]
  },
  {
   "cell_type": "code",
   "execution_count": 4,
   "id": "683dbb96",
   "metadata": {},
   "outputs": [
    {
     "data": {
      "text/plain": [
       "0.85"
      ]
     },
     "execution_count": 4,
     "metadata": {},
     "output_type": "execute_result"
    }
   ],
   "source": [
    "all_instructions = ['Step over', 'Unblocked door', 'Detour', 'Duck', 'Crawl', 'Get up']\n",
    "df[all_instructions].stack().mean()"
   ]
  },
  {
   "cell_type": "code",
   "execution_count": 5,
   "id": "38e77ef1",
   "metadata": {},
   "outputs": [
    {
     "data": {
      "text/html": [
       "<div>\n",
       "<style scoped>\n",
       "    .dataframe tbody tr th:only-of-type {\n",
       "        vertical-align: middle;\n",
       "    }\n",
       "\n",
       "    .dataframe tbody tr th {\n",
       "        vertical-align: top;\n",
       "    }\n",
       "\n",
       "    .dataframe thead th {\n",
       "        text-align: right;\n",
       "    }\n",
       "</style>\n",
       "<table border=\"1\" class=\"dataframe\">\n",
       "  <thead>\n",
       "    <tr style=\"text-align: right;\">\n",
       "      <th></th>\n",
       "      <th>Condition_gender</th>\n",
       "      <th>Condition_speech</th>\n",
       "      <th>Condition</th>\n",
       "      <th>Instruction</th>\n",
       "      <th>Value</th>\n",
       "    </tr>\n",
       "  </thead>\n",
       "  <tbody>\n",
       "    <tr>\n",
       "      <th>0</th>\n",
       "      <td>male</td>\n",
       "      <td>authoritative</td>\n",
       "      <td>0</td>\n",
       "      <td>Step over</td>\n",
       "      <td>0.0</td>\n",
       "    </tr>\n",
       "    <tr>\n",
       "      <th>1</th>\n",
       "      <td>female</td>\n",
       "      <td>authoritative</td>\n",
       "      <td>2</td>\n",
       "      <td>Step over</td>\n",
       "      <td>1.0</td>\n",
       "    </tr>\n",
       "    <tr>\n",
       "      <th>2</th>\n",
       "      <td>male</td>\n",
       "      <td>neutral</td>\n",
       "      <td>1</td>\n",
       "      <td>Step over</td>\n",
       "      <td>1.0</td>\n",
       "    </tr>\n",
       "    <tr>\n",
       "      <th>3</th>\n",
       "      <td>female</td>\n",
       "      <td>neutral</td>\n",
       "      <td>3</td>\n",
       "      <td>Step over</td>\n",
       "      <td>0.0</td>\n",
       "    </tr>\n",
       "    <tr>\n",
       "      <th>4</th>\n",
       "      <td>male</td>\n",
       "      <td>authoritative</td>\n",
       "      <td>0</td>\n",
       "      <td>Step over</td>\n",
       "      <td>1.0</td>\n",
       "    </tr>\n",
       "  </tbody>\n",
       "</table>\n",
       "</div>"
      ],
      "text/plain": [
       "  Condition_gender Condition_speech  Condition Instruction  Value\n",
       "0             male    authoritative          0   Step over    0.0\n",
       "1           female    authoritative          2   Step over    1.0\n",
       "2             male          neutral          1   Step over    1.0\n",
       "3           female          neutral          3   Step over    0.0\n",
       "4             male    authoritative          0   Step over    1.0"
      ]
     },
     "execution_count": 5,
     "metadata": {},
     "output_type": "execute_result"
    }
   ],
   "source": [
    "# prepare dataframe for boxplot\n",
    "df_melted = pd.melt(df,\n",
    "                    id_vars=['Condition_gender', 'Condition_speech', 'Condition'],\n",
    "                    value_vars=all_instructions,\n",
    "                    var_name='Instruction',\n",
    "                    value_name='Value').dropna()\n",
    "\n",
    "df_melted.head()"
   ]
  },
  {
   "cell_type": "markdown",
   "id": "5621c12e",
   "metadata": {},
   "source": [
    "After restructuring the dataframe, the plots with mean compliance scores (and standard deviation) depending on the conditions can be created:"
   ]
  },
  {
   "cell_type": "code",
   "execution_count": 6,
   "id": "378c1048",
   "metadata": {},
   "outputs": [
    {
     "data": {
      "image/png": "[encoded data removed]",
      "text/plain": [
       "<Figure size 432x432 with 1 Axes>"
      ]
     },
     "metadata": {},
     "output_type": "display_data"
    }
   ],
   "source": [
    "sns.set_theme()\n",
    "matplotlib.rcParams.update({'font.size': 20, 'font.family': 'serif'})\n",
    "\n",
    "plt.figure(figsize=(6,6))\n",
    "sns.barplot(data=df_melted,\n",
    "            x='Condition_gender',\n",
    "            y='Value',\n",
    "            palette=palette)\n",
    "plt.xticks([0, 1], ['male', 'female'])\n",
    "plt.xlabel('Condition', font={'weight': 'bold'})\n",
    "plt.ylabel('Compliance score', font={'weight': 'bold'})\n",
    "plt.tight_layout()   \n",
    "# plt.savefig('Plots/compliance_gender.pdf')\n",
    "plt.show()"
   ]
  },
  {
   "cell_type": "code",
   "execution_count": 7,
   "id": "3ee5953b",
   "metadata": {},
   "outputs": [
    {
     "data": {
      "image/png": "[encoded data removed]",
      "text/plain": [
       "<Figure size 432x432 with 1 Axes>"
      ]
     },
     "metadata": {},
     "output_type": "display_data"
    }
   ],
   "source": [
    "plt.figure(figsize=(6,6))\n",
    "sns.barplot(data=df_melted,\n",
    "            x='Condition_speech',\n",
    "            y='Value',\n",
    "            palette=palette)\n",
    "plt.xticks([0, 1], ['authoritative', 'neutral'])\n",
    "plt.xlabel('Condition', font={'weight': 'bold'})\n",
    "plt.ylabel('Compliance score', font={'weight': 'bold'})\n",
    "plt.tight_layout()\n",
    "# plt.savefig('Plots/compliance_speech.pdf')\n",
    "plt.show()"
   ]
  },
  {
   "cell_type": "code",
   "execution_count": 8,
   "id": "981b6478",
   "metadata": {},
   "outputs": [
    {
     "data": {
      "image/png": "[encoded data removed]",
      "text/plain": [
       "<Figure size 720x432 with 1 Axes>"
      ]
     },
     "metadata": {},
     "output_type": "display_data"
    }
   ],
   "source": [
    "plt.figure(figsize=(10,6))\n",
    "sns.barplot(data=df_melted,\n",
    "            x='Condition',\n",
    "            y='Value',\n",
    "            palette=palette)\n",
    "plt.xticks([0, 1, 2, 3], ['male,\\n authoritative', 'male,\\n neutral', 'female,\\n authoritative', 'female,\\n neutral'])\n",
    "plt.xlabel('Condition', font={'weight': 'bold'})\n",
    "plt.ylabel('Compliance score', font={'weight': 'bold'})\n",
    "plt.tight_layout()\n",
    "# plt.savefig('Plots/compliance_combined.pdf')\n",
    "plt.show()"
   ]
  },
  {
   "cell_type": "markdown",
   "id": "8459d84a",
   "metadata": {},
   "source": [
    "## Some exploratory approach/ statistics to see if we find something interesting"
   ]
  },
  {
   "cell_type": "code",
   "execution_count": 9,
   "id": "8c1e056f",
   "metadata": {},
   "outputs": [],
   "source": [
    "# gender \n",
    "df_male = df_melted.loc[df_melted['Condition_gender'] == 'male']\n",
    "df_female = df_melted.loc[df_melted['Condition_gender'] == 'female']\n",
    "\n",
    "# speech\n",
    "df_authoritative = df_melted.loc[df_melted['Condition_speech'] == 'authoritative']\n",
    "df_neutral = df_melted.loc[df_melted['Condition_speech'] == 'neutral']"
   ]
  },
  {
   "cell_type": "code",
   "execution_count": 10,
   "id": "64c69862",
   "metadata": {},
   "outputs": [
    {
     "data": {
      "text/html": [
       "<div>\n",
       "<style scoped>\n",
       "    .dataframe tbody tr th:only-of-type {\n",
       "        vertical-align: middle;\n",
       "    }\n",
       "\n",
       "    .dataframe tbody tr th {\n",
       "        vertical-align: top;\n",
       "    }\n",
       "\n",
       "    .dataframe thead th {\n",
       "        text-align: right;\n",
       "    }\n",
       "</style>\n",
       "<table border=\"1\" class=\"dataframe\">\n",
       "  <thead>\n",
       "    <tr style=\"text-align: right;\">\n",
       "      <th></th>\n",
       "      <th>Condition_gender</th>\n",
       "      <th>Condition_speech</th>\n",
       "      <th>Condition</th>\n",
       "      <th>Instruction</th>\n",
       "      <th>Value</th>\n",
       "    </tr>\n",
       "  </thead>\n",
       "  <tbody>\n",
       "    <tr>\n",
       "      <th>0</th>\n",
       "      <td>male</td>\n",
       "      <td>authoritative</td>\n",
       "      <td>0</td>\n",
       "      <td>Step over</td>\n",
       "      <td>0.0</td>\n",
       "    </tr>\n",
       "    <tr>\n",
       "      <th>1</th>\n",
       "      <td>female</td>\n",
       "      <td>authoritative</td>\n",
       "      <td>2</td>\n",
       "      <td>Step over</td>\n",
       "      <td>1.0</td>\n",
       "    </tr>\n",
       "    <tr>\n",
       "      <th>4</th>\n",
       "      <td>male</td>\n",
       "      <td>authoritative</td>\n",
       "      <td>0</td>\n",
       "      <td>Step over</td>\n",
       "      <td>1.0</td>\n",
       "    </tr>\n",
       "    <tr>\n",
       "      <th>5</th>\n",
       "      <td>female</td>\n",
       "      <td>authoritative</td>\n",
       "      <td>2</td>\n",
       "      <td>Step over</td>\n",
       "      <td>1.0</td>\n",
       "    </tr>\n",
       "    <tr>\n",
       "      <th>8</th>\n",
       "      <td>male</td>\n",
       "      <td>authoritative</td>\n",
       "      <td>0</td>\n",
       "      <td>Unblocked door</td>\n",
       "      <td>1.0</td>\n",
       "    </tr>\n",
       "    <tr>\n",
       "      <th>9</th>\n",
       "      <td>female</td>\n",
       "      <td>authoritative</td>\n",
       "      <td>2</td>\n",
       "      <td>Unblocked door</td>\n",
       "      <td>1.0</td>\n",
       "    </tr>\n",
       "    <tr>\n",
       "      <th>12</th>\n",
       "      <td>male</td>\n",
       "      <td>authoritative</td>\n",
       "      <td>0</td>\n",
       "      <td>Unblocked door</td>\n",
       "      <td>1.0</td>\n",
       "    </tr>\n",
       "    <tr>\n",
       "      <th>13</th>\n",
       "      <td>female</td>\n",
       "      <td>authoritative</td>\n",
       "      <td>2</td>\n",
       "      <td>Unblocked door</td>\n",
       "      <td>1.0</td>\n",
       "    </tr>\n",
       "    <tr>\n",
       "      <th>16</th>\n",
       "      <td>male</td>\n",
       "      <td>authoritative</td>\n",
       "      <td>0</td>\n",
       "      <td>Detour</td>\n",
       "      <td>1.0</td>\n",
       "    </tr>\n",
       "    <tr>\n",
       "      <th>17</th>\n",
       "      <td>female</td>\n",
       "      <td>authoritative</td>\n",
       "      <td>2</td>\n",
       "      <td>Detour</td>\n",
       "      <td>0.0</td>\n",
       "    </tr>\n",
       "    <tr>\n",
       "      <th>20</th>\n",
       "      <td>male</td>\n",
       "      <td>authoritative</td>\n",
       "      <td>0</td>\n",
       "      <td>Detour</td>\n",
       "      <td>1.0</td>\n",
       "    </tr>\n",
       "    <tr>\n",
       "      <th>21</th>\n",
       "      <td>female</td>\n",
       "      <td>authoritative</td>\n",
       "      <td>2</td>\n",
       "      <td>Detour</td>\n",
       "      <td>1.0</td>\n",
       "    </tr>\n",
       "    <tr>\n",
       "      <th>24</th>\n",
       "      <td>male</td>\n",
       "      <td>authoritative</td>\n",
       "      <td>0</td>\n",
       "      <td>Duck</td>\n",
       "      <td>1.0</td>\n",
       "    </tr>\n",
       "    <tr>\n",
       "      <th>28</th>\n",
       "      <td>male</td>\n",
       "      <td>authoritative</td>\n",
       "      <td>0</td>\n",
       "      <td>Duck</td>\n",
       "      <td>1.0</td>\n",
       "    </tr>\n",
       "    <tr>\n",
       "      <th>29</th>\n",
       "      <td>female</td>\n",
       "      <td>authoritative</td>\n",
       "      <td>2</td>\n",
       "      <td>Duck</td>\n",
       "      <td>1.0</td>\n",
       "    </tr>\n",
       "    <tr>\n",
       "      <th>32</th>\n",
       "      <td>male</td>\n",
       "      <td>authoritative</td>\n",
       "      <td>0</td>\n",
       "      <td>Crawl</td>\n",
       "      <td>1.0</td>\n",
       "    </tr>\n",
       "    <tr>\n",
       "      <th>36</th>\n",
       "      <td>male</td>\n",
       "      <td>authoritative</td>\n",
       "      <td>0</td>\n",
       "      <td>Crawl</td>\n",
       "      <td>1.0</td>\n",
       "    </tr>\n",
       "    <tr>\n",
       "      <th>37</th>\n",
       "      <td>female</td>\n",
       "      <td>authoritative</td>\n",
       "      <td>2</td>\n",
       "      <td>Crawl</td>\n",
       "      <td>1.0</td>\n",
       "    </tr>\n",
       "    <tr>\n",
       "      <th>40</th>\n",
       "      <td>male</td>\n",
       "      <td>authoritative</td>\n",
       "      <td>0</td>\n",
       "      <td>Get up</td>\n",
       "      <td>1.0</td>\n",
       "    </tr>\n",
       "    <tr>\n",
       "      <th>45</th>\n",
       "      <td>female</td>\n",
       "      <td>authoritative</td>\n",
       "      <td>2</td>\n",
       "      <td>Get up</td>\n",
       "      <td>1.0</td>\n",
       "    </tr>\n",
       "  </tbody>\n",
       "</table>\n",
       "</div>"
      ],
      "text/plain": [
       "   Condition_gender Condition_speech  Condition     Instruction  Value\n",
       "0              male    authoritative          0       Step over    0.0\n",
       "1            female    authoritative          2       Step over    1.0\n",
       "4              male    authoritative          0       Step over    1.0\n",
       "5            female    authoritative          2       Step over    1.0\n",
       "8              male    authoritative          0  Unblocked door    1.0\n",
       "9            female    authoritative          2  Unblocked door    1.0\n",
       "12             male    authoritative          0  Unblocked door    1.0\n",
       "13           female    authoritative          2  Unblocked door    1.0\n",
       "16             male    authoritative          0          Detour    1.0\n",
       "17           female    authoritative          2          Detour    0.0\n",
       "20             male    authoritative          0          Detour    1.0\n",
       "21           female    authoritative          2          Detour    1.0\n",
       "24             male    authoritative          0            Duck    1.0\n",
       "28             male    authoritative          0            Duck    1.0\n",
       "29           female    authoritative          2            Duck    1.0\n",
       "32             male    authoritative          0           Crawl    1.0\n",
       "36             male    authoritative          0           Crawl    1.0\n",
       "37           female    authoritative          2           Crawl    1.0\n",
       "40             male    authoritative          0          Get up    1.0\n",
       "45           female    authoritative          2          Get up    1.0"
      ]
     },
     "execution_count": 10,
     "metadata": {},
     "output_type": "execute_result"
    }
   ],
   "source": [
    "df_authoritative"
   ]
  },
  {
   "cell_type": "code",
   "execution_count": 11,
   "id": "acb53e02",
   "metadata": {},
   "outputs": [],
   "source": [
    "def print_mean_and_sd_from_dataframe(dataframe, condition_type):\n",
    "    \"\"\"\n",
    "    \"\"\"\n",
    "    \n",
    "    print('Results for condition ', condition_type)\n",
    "    print('Mean: ', round(dataframe['Value'].mean(), 4))\n",
    "    print('Standard deviation: ', round(dataframe['Value'].std(), 4))"
   ]
  },
  {
   "cell_type": "code",
   "execution_count": 12,
   "id": "9099d42f",
   "metadata": {},
   "outputs": [
    {
     "name": "stdout",
     "output_type": "stream",
     "text": [
      "Results for condition  male\n",
      "Mean:  0.9545\n",
      "Standard deviation:  0.2132\n"
     ]
    }
   ],
   "source": [
    "print_mean_and_sd_from_dataframe(df_male, 'male')"
   ]
  },
  {
   "cell_type": "code",
   "execution_count": 13,
   "id": "79430b7f",
   "metadata": {},
   "outputs": [
    {
     "name": "stdout",
     "output_type": "stream",
     "text": [
      "Results for condition  female\n",
      "Mean:  0.7222\n",
      "Standard deviation:  0.4609\n"
     ]
    }
   ],
   "source": [
    "print_mean_and_sd_from_dataframe(df_female, 'female')"
   ]
  },
  {
   "cell_type": "code",
   "execution_count": 14,
   "id": "834c123d",
   "metadata": {},
   "outputs": [
    {
     "name": "stdout",
     "output_type": "stream",
     "text": [
      "Results for condition  authoritative\n",
      "Mean:  0.9\n",
      "Standard deviation:  0.3078\n"
     ]
    }
   ],
   "source": [
    "print_mean_and_sd_from_dataframe(df_authoritative, 'authoritative')"
   ]
  },
  {
   "cell_type": "code",
   "execution_count": 15,
   "id": "50cd3f96",
   "metadata": {},
   "outputs": [
    {
     "name": "stdout",
     "output_type": "stream",
     "text": [
      "Results for condition  neutral\n",
      "Mean:  0.9\n",
      "Standard deviation:  0.3078\n"
     ]
    }
   ],
   "source": [
    "print_mean_and_sd_from_dataframe(df_authoritative, 'neutral')"
   ]
  },
  {
   "cell_type": "code",
   "execution_count": null,
   "id": "70b92fc1",
   "metadata": {},
   "outputs": [],
   "source": []
  }
 ],
 "metadata": {
  "kernelspec": {
   "display_name": "Python 3 (ipykernel)",
   "language": "python",
   "name": "python3"
  },
  "language_info": {
   "codemirror_mode": {
    "name": "ipython",
    "version": 3
   },
   "file_extension": ".py",
   "mimetype": "text/x-python",
   "name": "python",
   "nbconvert_exporter": "python",
   "pygments_lexer": "ipython3",
   "version": "3.10.0"
  }
 },
 "nbformat": 4,
 "nbformat_minor": 5
}
